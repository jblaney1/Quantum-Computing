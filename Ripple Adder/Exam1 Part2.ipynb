{
 "cells": [
  {
   "cell_type": "markdown",
   "id": "087f1d5c-6b7e-441b-900e-365b27783187",
   "metadata": {},
   "source": [
    "## n-Bit Quantum Ripple Adder\n",
    "#### Assigmnet: Exam 1 Part 2\n",
    "#### Class: EE 5885 Introduction to Quantum Computing\n",
    "#### Instructor: Dr. Suresh\n",
    "#### Author: Josh Blaney\n",
    "#### Date: 10/27/2022"
   ]
  },
  {
   "cell_type": "code",
   "execution_count": null,
   "id": "5376a7a6-fbac-44d0-adc8-db39fb76716d",
   "metadata": {},
   "outputs": [],
   "source": [
    "#Import QuantumRegister and ClassicalRegister classes from qiskit library\n",
    "from qiskit import QuantumRegister as QuR\n",
    "from qiskit import ClassicalRegister as CR\n",
    "\n",
    "#Import QuantumCircuit class, execute function, and noisy simulator Aer\n",
    "from qiskit import QuantumCircuit as QuC\n",
    "from qiskit import execute, Aer\n",
    "\n",
    "import matplotlib\n",
    "from qiskit.visualization import plot_histogram"
   ]
  },
  {
   "cell_type": "code",
   "execution_count": null,
   "id": "4d2edfa5-199e-4783-993c-fd3be678f57e",
   "metadata": {},
   "outputs": [],
   "source": [
    "#Create a composite gate for the carry Function\n",
    "qcarry = QuR(4)\n",
    "cqc = QuC(qcarry, name='carry')\n",
    "cqc.ccx(qcarry[1],qcarry[2],qcarry[3])\n",
    "cqc.cx(qcarry[1],qcarry[2])\n",
    "cqc.ccx(qcarry[0],qcarry[2],qcarry[3])\n",
    "\n",
    "#Convert to a composite gate\n",
    "carry_gate = cqc.to_instruction()"
   ]
  },
  {
   "cell_type": "code",
   "execution_count": null,
   "id": "8cd55122-7579-42d8-a314-cd7975d21dda",
   "metadata": {},
   "outputs": [],
   "source": [
    "# Create a composite gate for carry dagger\n",
    "iqcarry = QuR(4)\n",
    "icqc = QuC(iqcarry, name='inv carry')\n",
    "icqc.ccx(iqcarry[0],iqcarry[2],iqcarry[3])\n",
    "icqc.cx(iqcarry[1],iqcarry[2])\n",
    "icqc.ccx(iqcarry[1],iqcarry[2],iqcarry[3])\n",
    "\n",
    "# Convert to a composite gate\n",
    "inv_carry_gate = icqc.to_instruction()"
   ]
  },
  {
   "cell_type": "code",
   "execution_count": null,
   "id": "a0208e12-5fbd-4251-bbe4-6030003e6f24",
   "metadata": {},
   "outputs": [],
   "source": [
    "#Create a composite gate for the sum function\n",
    "qsum = QuR(3)\n",
    "sqc = QuC(qsum, name='sum')\n",
    "sqc.cx(qsum[1],qsum[2])\n",
    "sqc.cx(qsum[0],qsum[2])\n",
    "\n",
    "#Convert to a composite gate\n",
    "sum_gate = sqc.to_instruction()"
   ]
  },
  {
   "cell_type": "code",
   "execution_count": null,
   "id": "14c1eaad-3961-4aca-912d-0e473f4d70ca",
   "metadata": {},
   "outputs": [],
   "source": [
    "# Function to implement base 10 to binary conversion with padding\n",
    "def int_to_bits(w, bits):\n",
    "    x = int(w)\n",
    "    y = \"\"\n",
    "    while (x > 0):\n",
    "        r = x % 2\n",
    "        y += str(r)\n",
    "        x = x//2\n",
    "    \n",
    "    for i in range(len(y)-bits):\n",
    "        y += \"0\"\n",
    "    \n",
    "    return y"
   ]
  },
  {
   "cell_type": "code",
   "execution_count": null,
   "id": "58cacaff-ba02-4116-a762-f1adeac833ee",
   "metadata": {},
   "outputs": [],
   "source": [
    "#Function to implement n-bit Ripple Adder\n",
    "def nBitRippleAdder(Input1,Input2,CarryIn, n):\n",
    "    Input1_bits = int_to_bits(Input1, n) # Find the binary equivalent of the input integer A\n",
    "    Input2_bits = int_to_bits(Input2, n) # Find the binary equivalent of the input integer B\n",
    "    q = QuR(3*n+1,'q') # Setup a quantum register with enough bits for the quantum circuit\n",
    "    c = CR(3*n+1,'c')  # Setup a classical register with enough bits to store the result\n",
    "    qc = QuC(q,c)      # Setup a quantum circuit pulling the two registers together\n",
    "    \n",
    "    #Setup Carry in Input\n",
    "    if (CarryIn == 1):\n",
    "        qc.x(q[0])\n",
    "    \n",
    "    # Iterate over the binary A and add X gates to set the input qubits accordingly\n",
    "    for index, bit in enumerate(Input1_bits):\n",
    "        if bit == '1':\n",
    "            qc.x(q[(index*3)+1])\n",
    "            \n",
    "    # Iterate over the binary B and add X gates to set the input qubits accordingly\n",
    "    for index, bit in enumerate(Input2_bits):\n",
    "        if bit == '1':\n",
    "            qc.x(q[(index*3)+2])\n",
    "    \n",
    "    # Record the compute qubits for the uncompute step\n",
    "    uncompute = []\n",
    "    \n",
    "    # Now perform the compute portion of the circuit\n",
    "    for i in range(0,n):\n",
    "        j = 3 * i\n",
    "        qc.append(carry_gate,[q[j],q[j+1],q[j+2],q[j+3]])\n",
    "        uncompute.append([q[j],q[j+1],q[j+2],q[j+3]])\n",
    "    \n",
    "    qc.barrier()\n",
    "    \n",
    "    # Uncompute the A xor B in the final carry\n",
    "    qc.cx(q[-3],q[-2])\n",
    "    \n",
    "    # Add the first sum gate\n",
    "    # n sum gates are required but\n",
    "    # n-1 inverse carry gates are required\n",
    "    qc.append(sum_gate, [q[-4],q[-3],q[-2]])\n",
    "    \n",
    "    # Finish uncompute with n-1 inverse carry and sum gates\n",
    "    for i in range(2,n+1):\n",
    "        qc.append(inv_carry_gate, uncompute[-i])\n",
    "        qc.append(sum_gate, uncompute[-i][0:3])\n",
    "    \n",
    "    qc.barrier()\n",
    "    qc.measure(q,c)\n",
    "    \n",
    "    return qc"
   ]
  },
  {
   "cell_type": "code",
   "execution_count": null,
   "id": "5f8f1108-12eb-453f-a6b0-93c839bbf89f",
   "metadata": {
    "tags": []
   },
   "outputs": [],
   "source": [
    "in1 = 255 # Input A\n",
    "in2 = 255 # Input B\n",
    "cin = 1 # Carry In\n",
    "bits = 8 # number of bits in the adder\n",
    "\n",
    "QC = nBitRippleAdder(in1,in2,cin,n=bits)\n",
    "QC.draw(output = 'mpl', scale = 2)"
   ]
  },
  {
   "cell_type": "code",
   "execution_count": null,
   "id": "cafa06ce-8b90-4065-8613-3eee791f5fee",
   "metadata": {},
   "outputs": [],
   "source": [
    "#Create a simulator to perform noisy simulation using the qasm_simulator \n",
    "sim = Aer.get_backend('qasm_simulator')\n",
    "#Perform the noisy simulation using the qasm_Simulator and repeat 1024 times\n",
    "job = execute(QC,backend=sim,shots=1024)\n",
    "#Obtain the results of the job submitted\n",
    "result = job.result()\n",
    "#Obtain the results of the simulation\n",
    "counts= result.get_counts(QC)\n",
    "print(counts)"
   ]
  },
  {
   "cell_type": "code",
   "execution_count": null,
   "id": "cf134fdf-33cd-4c4e-b5f4-fe460569c6a4",
   "metadata": {},
   "outputs": [],
   "source": [
    "#Plot the output as a histogram\n",
    "plot_histogram(counts)"
   ]
  },
  {
   "cell_type": "code",
   "execution_count": null,
   "id": "799756b9-1362-45df-ae9b-f2ec54268b9a",
   "metadata": {},
   "outputs": [],
   "source": []
  }
 ],
 "metadata": {
  "kernelspec": {
   "display_name": "Python 3 (ipykernel)",
   "language": "python",
   "name": "python3"
  },
  "language_info": {
   "codemirror_mode": {
    "name": "ipython",
    "version": 3
   },
   "file_extension": ".py",
   "mimetype": "text/x-python",
   "name": "python",
   "nbconvert_exporter": "python",
   "pygments_lexer": "ipython3",
   "version": "3.8.13"
  }
 },
 "nbformat": 4,
 "nbformat_minor": 5
}
